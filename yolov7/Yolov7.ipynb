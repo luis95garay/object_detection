{
  "cells": [
    {
      "cell_type": "markdown",
      "metadata": {
        "id": "9b4Ru0bsw5SW"
      },
      "source": [
        "# YOLOv7\n",
        "This notebook shows steps for training, testing and inference for training yolov7 or yolov7tiny models."
      ]
    },
    {
      "cell_type": "code",
      "execution_count": 1,
      "metadata": {
        "colab": {
          "base_uri": "https://localhost:8080/"
        },
        "id": "rHiLWLlblzBm",
        "outputId": "3bd16815-2a26-4e0c-dffe-e8d280efb70e"
      },
      "outputs": [
        {
          "name": "stdout",
          "output_type": "stream",
          "text": [
            "Thu Jul 27 14:47:47 2023       \n",
            "+-----------------------------------------------------------------------------+\n",
            "| NVIDIA-SMI 525.105.17   Driver Version: 525.105.17   CUDA Version: 12.0     |\n",
            "|-------------------------------+----------------------+----------------------+\n",
            "| GPU  Name        Persistence-M| Bus-Id        Disp.A | Volatile Uncorr. ECC |\n",
            "| Fan  Temp  Perf  Pwr:Usage/Cap|         Memory-Usage | GPU-Util  Compute M. |\n",
            "|                               |                      |               MIG M. |\n",
            "|===============================+======================+======================|\n",
            "|   0  Tesla T4            Off  | 00000000:00:04.0 Off |                    0 |\n",
            "| N/A   60C    P8    10W /  70W |      0MiB / 15360MiB |      0%      Default |\n",
            "|                               |                      |                  N/A |\n",
            "+-------------------------------+----------------------+----------------------+\n",
            "                                                                               \n",
            "+-----------------------------------------------------------------------------+\n",
            "| Processes:                                                                  |\n",
            "|  GPU   GI   CI        PID   Type   Process name                  GPU Memory |\n",
            "|        ID   ID                                                   Usage      |\n",
            "|=============================================================================|\n",
            "|  No running processes found                                                 |\n",
            "+-----------------------------------------------------------------------------+\n"
          ]
        }
      ],
      "source": [
        "!nvidia-smi"
      ]
    },
    {
      "cell_type": "markdown",
      "metadata": {
        "id": "XNXkhUdkaszH"
      },
      "source": [
        "Load all the files for yolov7 training:\n",
        "- launch_yolov7.sh\n",
        "- load_dataset.py\n",
        "- test_mlflow.py\n",
        "- train_mlflow.py\n",
        "- data.yaml\n",
        "- credentials.env\n",
        "- hyp.scratch.custom.yaml\n",
        "- hyp.scratch.tiny.yaml\n",
        "- yolov7.yaml\n",
        "- yolov7-tiny.yaml\n",
        "\n",
        "\n",
        "\n",
        "If you want to run everything in one step, run the following command making sure to change the necessary parameters inside the \"launch_yolov7.sh\" file"
      ]
    },
    {
      "cell_type": "code",
      "execution_count": null,
      "metadata": {
        "id": "Na6TdKHwCbWL"
      },
      "outputs": [],
      "source": [
        "# !source launch_yolov7.sh"
      ]
    },
    {
      "cell_type": "markdown",
      "metadata": {
        "id": "SMwNbnWKUGei"
      },
      "source": [
        "## Initialization"
      ]
    },
    {
      "cell_type": "code",
      "execution_count": null,
      "metadata": {
        "id": "gO27pLXdb2uv"
      },
      "outputs": [],
      "source": [
        "# Set variables (Required)\n",
        "%env dataset=Yolov7Dataset\n",
        "%env model_type=yolov7-tiny # options: yolov7-tiny or yolov7\n",
        "%env experiment_name=TechGo\n",
        "%env run_tag=yolov7_tiny_640\n",
        "\n",
        "# general hyperparameters (Required)\n",
        "%env batch_size=16\n",
        "%env epochs=1\n",
        "%env img_size=640\n",
        "%env data=data.yaml\n",
        "\n",
        "# if training yolov7, complete next hyperparameters (Optional)\n",
        "%env cfg_yolov7=yolov7.yaml\n",
        "%env hyp_yolov7=hyp.scratch.custom.yaml\n",
        "\n",
        "# if training yolov7-tiny, complete next hyperparameters (Optional)\n",
        "%env cfg_yolov7_tiny=yolov7-tiny.yaml\n",
        "%env hyp_yolov7_tiny=hyp.scratch.tiny.yaml"
      ]
    },
    {
      "cell_type": "markdown",
      "metadata": {
        "id": "9JeMxEP6cKa8"
      },
      "source": [
        "1. Download the official YOLOv7 repo"
      ]
    },
    {
      "cell_type": "code",
      "execution_count": null,
      "metadata": {
        "id": "CR0ust8xcObQ"
      },
      "outputs": [],
      "source": [
        "%%bash\n",
        "# Download the official YOLOv7 repo\n",
        "if [ ! -d  \"yolov7\" ]; then\n",
        "    git clone \"https://github.com/WongKinYiu/yolov7.git\"\n",
        "else\n",
        "    echo \"The repository already exists in the target directory.\"\n",
        "fi"
      ]
    },
    {
      "cell_type": "markdown",
      "metadata": {
        "id": "_rY5LGoucQRQ"
      },
      "source": [
        "2. Install the necessary dependencies"
      ]
    },
    {
      "cell_type": "code",
      "execution_count": null,
      "metadata": {
        "id": "TvJUggzHcVU2"
      },
      "outputs": [],
      "source": [
        "# Install required packages\n",
        "!pip install -r yolov7/requirements.txt\n",
        "!pip install mlflow\n",
        "!pip install boto3\n",
        "!pip install python-dotenv"
      ]
    },
    {
      "cell_type": "markdown",
      "metadata": {
        "id": "GyLHzEV5cReQ"
      },
      "source": [
        "3. Move the training files with mlflow inside repo"
      ]
    },
    {
      "cell_type": "code",
      "execution_count": 5,
      "metadata": {
        "id": "vK2gyipFcZLg"
      },
      "outputs": [],
      "source": [
        "%%bash\n",
        "# Move modified traninig files\n",
        "if [ -e \"train_mlflow.py\" ]; then\n",
        "    mv train_mlflow.py yolov7\n",
        "fi\n",
        "if [ -e \"test_mlflow.py\" ]; then\n",
        "    mv test_mlflow.py yolov7\n",
        "fi"
      ]
    },
    {
      "cell_type": "markdown",
      "metadata": {
        "id": "5sCTkKinoS2W"
      },
      "source": [
        "## Load dataset"
      ]
    },
    {
      "cell_type": "code",
      "execution_count": null,
      "metadata": {
        "id": "Tn4Z8UDGiVYj"
      },
      "outputs": [],
      "source": [
        "%%bash\n",
        "if [ ! -d $dataset ]; then\n",
        "    python3 load_dataset.py \\\n",
        "            --bucket_name elvis-s3-mlflow \\\n",
        "            --dataset_path dataset/$dataset.zip \\\n",
        "            --save_dir $dataset.zip\n",
        "\n",
        "    unzip $dataset.zip -d .\n",
        "    rm $dataset.zip\n",
        "\n",
        "else\n",
        "    echo \"The dataset already exist\"\n",
        "fi"
      ]
    },
    {
      "cell_type": "code",
      "execution_count": null,
      "metadata": {
        "id": "4sSfh54OpAQn"
      },
      "outputs": [],
      "source": [
        "import os\n",
        "dataset_var = os.environ[\"dataset\"]\n",
        "num_training_images = len(os.listdir(f\"/content/{dataset_var}/train/images\"))\n",
        "num_training_labels = len(os.listdir(f\"/content/{dataset_var}/train/labels\"))\n",
        "num_valid_images = len(os.listdir(f\"/content/{dataset_var}/valid/images\"))\n",
        "num_valid_labels = len(os.listdir(f\"/content/{dataset_var}/valid/labels\"))\n",
        "num_testing_images = len(os.listdir(f\"/content/{dataset_var}/test/images\"))\n",
        "num_testing_labels = len(os.listdir(f\"/content/{dataset_var}/test/labels\"))\n",
        "print(\"Number of images in the train set. {}\".format(num_training_images))\n",
        "print(\"Number of labels in the train set. {}\".format(num_training_labels))\n",
        "print(\"Number of images in the valid set. {}\".format(num_valid_images))\n",
        "print(\"Number of labels in the valid set. {}\".format(num_valid_labels))\n",
        "print(\"Number of images in the test set. {}\".format(num_testing_images))\n",
        "print(\"Number of labels in the test set. {}\".format(num_testing_labels))"
      ]
    },
    {
      "cell_type": "markdown",
      "metadata": {
        "id": "f7Gc6iI1NzwT"
      },
      "source": [
        "## Training"
      ]
    },
    {
      "cell_type": "markdown",
      "metadata": {
        "id": "gawFnQfRdq0f"
      },
      "source": [
        "Yolov7 training"
      ]
    },
    {
      "cell_type": "code",
      "execution_count": null,
      "metadata": {
        "id": "IFWTYo1JjLnm"
      },
      "outputs": [],
      "source": [
        "# Download weights\n",
        "%%bash\n",
        "cd yolov7\n",
        "wget https://github.com/WongKinYiu/yolov7/releases/download/v0.1/yolov7_training.pt\n",
        "cd .."
      ]
    },
    {
      "cell_type": "code",
      "execution_count": null,
      "metadata": {
        "id": "E_28URgTdhNS"
      },
      "outputs": [],
      "source": [
        "# Train an test yolov7 model\n",
        "!python3 yolov7/train_mlflow.py \\\n",
        "        --device 0 --batch-size $batch_size --epochs $epochs --img $img_size \\\n",
        "        --data $data \\\n",
        "        --cfg $cfg_yolov7 \\\n",
        "        --weights 'yolov7/yolov7_training.pt' \\\n",
        "        --name $run_tag \\\n",
        "        --hyp $hyp_yolov7 \\\n",
        "        --experiment-name $experiment_name"
      ]
    },
    {
      "cell_type": "markdown",
      "metadata": {
        "id": "N-VSbK_kdyX8"
      },
      "source": [
        "Yolov7_tiny training"
      ]
    },
    {
      "cell_type": "code",
      "execution_count": null,
      "metadata": {
        "id": "0eEZAQghjQJh"
      },
      "outputs": [],
      "source": [
        "# Download weights\n",
        "%%bash\n",
        "cd yolov7\n",
        "wget https://github.com/WongKinYiu/yolov7/releases/download/v0.1/yolov7-tiny.pt\n",
        "cd .."
      ]
    },
    {
      "cell_type": "code",
      "execution_count": null,
      "metadata": {
        "id": "VWzR0xwjd3qN"
      },
      "outputs": [],
      "source": [
        "# Train and test yolov7tiny model\n",
        "!python3 yolov7/train_mlflow.py \\\n",
        "        --device 0 --batch-size $batch_size --epochs $epochs --img $img_size \\\n",
        "        --data $data \\\n",
        "        --cfg $cfg_yolov7_tiny \\\n",
        "        --weights 'yolov7/yolov7-tiny.pt' \\\n",
        "        --name $run_tag \\\n",
        "        --hyp $hyp_yolov7_tiny \\\n",
        "        --experiment-name $experiment_name"
      ]
    },
    {
      "cell_type": "markdown",
      "metadata": {
        "id": "-YTgElrpUKEv"
      },
      "source": [
        "## Test"
      ]
    },
    {
      "cell_type": "code",
      "execution_count": 10,
      "metadata": {
        "id": "_TfXIPAvK7Ns"
      },
      "outputs": [],
      "source": [
        "# %env run_tag=yolov7_tiny_640"
      ]
    },
    {
      "cell_type": "code",
      "execution_count": null,
      "metadata": {
        "id": "H6-mG1iEURkV"
      },
      "outputs": [],
      "source": [
        "!python yolov7/test.py --weights runs/train/$run_tag/weights/best.pt --task test --data data.yaml --batch-size 16 --img-size 640"
      ]
    },
    {
      "cell_type": "markdown",
      "metadata": {
        "id": "U6KpjBphgUOT"
      },
      "source": [
        "## Inference"
      ]
    },
    {
      "cell_type": "code",
      "execution_count": null,
      "metadata": {
        "id": "MDZYQPvGxY2W"
      },
      "outputs": [],
      "source": [
        "!python yolov7/detect.py --weights runs/train/$run_tag/weights/best.pt --conf 0.4 --img-size 640 --source /content/$dataset/test/images/230217_cam60_file01_frame100.jpg"
      ]
    }
  ],
  "metadata": {
    "accelerator": "GPU",
    "colab": {
      "gpuClass": "premium",
      "gpuType": "T4",
      "provenance": [],
      "toc_visible": true
    },
    "gpuClass": "premium",
    "kernelspec": {
      "display_name": "Python 3",
      "name": "python3"
    },
    "language_info": {
      "name": "python"
    }
  },
  "nbformat": 4,
  "nbformat_minor": 0
}
